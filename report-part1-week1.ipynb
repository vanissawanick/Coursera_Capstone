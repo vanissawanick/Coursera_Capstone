{
 "cells": [
  {
   "cell_type": "markdown",
   "metadata": {},
   "source": [
    "# Data science / Capstone project – report (week 1)\n",
    "### The battle of the neighbourhoods: which one is more multicultural? Southampton vs Portsmouth"
   ]
  },
  {
   "cell_type": "markdown",
   "metadata": {},
   "source": [
    "### 1. Description of the problem and a discussion of the background\n",
    "A multicultural city embraces diversity. For this project, I would like to compare the amount of different “traditional” cuisines in two cities: Portsmouth, UK and Southampton, UK. Southampton has a population of 254,275 and Portsmouth, 238,137. Both cities are located in the same area of the UK and have similar population size. People tend to travel between those two cities in the weekends or during the week, so this comparison becomes natural. What I want to know is that if I want to have a multicultural experience, where should I go? For example, if I want to eat Lebanese food, which city will give me more options? At the moment, there is no other way of knowing this besides asking people what they think or just looking for the best restaurant using Google. I want to improve the discoverability of other restaurants that offer traditional cuisines around the area of Southampton and Portsmouth, UK.\n",
    "Thus, in summary, the goal of this application is to: improve the discoverability of other restaurants that offer traditional cuisines around the area of Southampton and Portsmouth, UK.\n",
    "Questions: Which city is more multicultural? How many unique cultural restaurants are in Southampton and Portsmouth, UK? If I want to experience a specific cuisine, which city should I go?\n",
    "By answering these questions, businesses in both areas could increase their discoverability rate and it might be possible that new opportunities could emerge from this search.\n",
    "Finally, objectives are (at least): to list the current restaurants in each city; to group the restaurants by unique categories; to visualise the area with more variety of cuisines; to compare the results from each city.\n"
   ]
  },
  {
   "cell_type": "code",
   "execution_count": null,
   "metadata": {},
   "outputs": [],
   "source": []
  }
 ],
 "metadata": {
  "kernelspec": {
   "display_name": "Python",
   "language": "python",
   "name": "conda-env-python-py"
  },
  "language_info": {
   "codemirror_mode": {
    "name": "ipython",
    "version": 3
   },
   "file_extension": ".py",
   "mimetype": "text/x-python",
   "name": "python",
   "nbconvert_exporter": "python",
   "pygments_lexer": "ipython3",
   "version": "3.6.7"
  }
 },
 "nbformat": 4,
 "nbformat_minor": 4
}
