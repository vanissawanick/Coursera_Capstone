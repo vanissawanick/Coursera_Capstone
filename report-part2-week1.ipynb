{
 "cells": [
  {
   "cell_type": "markdown",
   "metadata": {},
   "source": [
    "# Data science / Capstone project – report (week 1)\n",
    "### The battle of the neighbourhoods: which one is more multicultural? Southampton vs Portsmouth"
   ]
  },
  {
   "cell_type": "markdown",
   "metadata": {},
   "source": [
    "### 2. Description of the data and how it will be used to solve the problem\n",
    "Data that will be utilised will come from the Foursquare API. The reason for that is that it will be easier to use the queries to look for unique categories and cluster the neighbourhoods according to each category. In foursquare, there is a way to use the function GET request for result, and I will use the ‘categories’ section to group the data. I will use latitude and longitude information from each city as a starting point. \n",
    "Now that I have in mind the goal of this project and some objectives, we can draw the next stages. These are: 1) analysis of each neighbourhood from each city using the mean of each category and add it to a dataframe; 2) use k-means to cluster the neighbourhoods; 3) compare the clusters from each city.\n"
   ]
  },
  {
   "cell_type": "code",
   "execution_count": null,
   "metadata": {},
   "outputs": [],
   "source": []
  }
 ],
 "metadata": {
  "kernelspec": {
   "display_name": "Python",
   "language": "python",
   "name": "conda-env-python-py"
  },
  "language_info": {
   "codemirror_mode": {
    "name": "ipython",
    "version": 3
   },
   "file_extension": ".py",
   "mimetype": "text/x-python",
   "name": "python",
   "nbconvert_exporter": "python",
   "pygments_lexer": "ipython3",
   "version": "3.6.7"
  }
 },
 "nbformat": 4,
 "nbformat_minor": 4
}
